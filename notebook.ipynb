{
 "cells": [
  {
   "cell_type": "code",
   "execution_count": 6,
   "metadata": {},
   "outputs": [],
   "source": [
    "from moccasin import setup_notebook\n",
    "\n",
    "setup_notebook()"
   ]
  },
  {
   "cell_type": "code",
   "execution_count": 22,
   "metadata": {},
   "outputs": [
    {
     "ename": "Exception",
     "evalue": "Cannot fork with dirty state. Set allow_dirty=True to override.",
     "output_type": "error",
     "traceback": [
      "\u001b[31m---------------------------------------------------------------------------\u001b[39m",
      "\u001b[31mException\u001b[39m                                 Traceback (most recent call last)",
      "\u001b[36mCell\u001b[39m\u001b[36m \u001b[39m\u001b[32mIn[22]\u001b[39m\u001b[32m, line 7\u001b[39m\n\u001b[32m      4\u001b[39m \u001b[38;5;28;01mfrom\u001b[39;00m\u001b[38;5;250m \u001b[39m\u001b[34;01mmoccasin\u001b[39;00m\u001b[34;01m.\u001b[39;00m\u001b[34;01mconfig\u001b[39;00m\u001b[38;5;250m \u001b[39m\u001b[38;5;28;01mimport\u001b[39;00m get_active_network\n\u001b[32m      6\u001b[39m \u001b[38;5;66;03m# 确保完全初始化\u001b[39;00m\n\u001b[32m----> \u001b[39m\u001b[32m7\u001b[39m \u001b[43msetup_notebook\u001b[49m\u001b[43m(\u001b[49m\u001b[43m)\u001b[49m\n\u001b[32m      9\u001b[39m \u001b[38;5;66;03m# 获取网络\u001b[39;00m\n\u001b[32m     10\u001b[39m active_network = get_active_network()\n",
      "\u001b[36mFile \u001b[39m\u001b[32m~/auto-trading/.venv/lib/python3.12/site-packages/moccasin/__init__.py:30\u001b[39m, in \u001b[36msetup_notebook\u001b[39m\u001b[34m(path)\u001b[39m\n\u001b[32m     28\u001b[39m \u001b[38;5;66;03m# Set up the environment (add necessary paths to sys.path, etc.)\u001b[39;00m\n\u001b[32m     29\u001b[39m _set_sys_path(get_sys_paths_list(config))\n\u001b[32m---> \u001b[39m\u001b[32m30\u001b[39m \u001b[43m_setup_network_and_account_from_config_and_cli\u001b[49m\u001b[43m(\u001b[49m\u001b[43m)\u001b[49m\n",
      "\u001b[36mFile \u001b[39m\u001b[32m~/auto-trading/.venv/lib/python3.12/site-packages/moccasin/_sys_path_and_config_setup.py:152\u001b[39m, in \u001b[36m_setup_network_and_account_from_config_and_cli\u001b[39m\u001b[34m(network, url, fork, account, private_key, password, password_file_path, prompt_live, explorer_uri, explorer_api_key, db_path, save_to_db)\u001b[39m\n\u001b[32m    149\u001b[39m config = get_config()\n\u001b[32m    151\u001b[39m \u001b[38;5;66;03m# 1. Update the network with the CLI values\u001b[39;00m\n\u001b[32m--> \u001b[39m\u001b[32m152\u001b[39m active_network = \u001b[43m_get_set_active_network_from_cli_and_config\u001b[49m\u001b[43m(\u001b[49m\n\u001b[32m    153\u001b[39m \u001b[43m    \u001b[49m\u001b[43mconfig\u001b[49m\u001b[43m,\u001b[49m\n\u001b[32m    154\u001b[39m \u001b[43m    \u001b[49m\u001b[43mnetwork\u001b[49m\u001b[43m,\u001b[49m\n\u001b[32m    155\u001b[39m \u001b[43m    \u001b[49m\u001b[43murl\u001b[49m\u001b[43m,\u001b[49m\n\u001b[32m    156\u001b[39m \u001b[43m    \u001b[49m\u001b[43mfork\u001b[49m\u001b[43m,\u001b[49m\n\u001b[32m    157\u001b[39m \u001b[43m    \u001b[49m\u001b[43maccount\u001b[49m\u001b[43m,\u001b[49m\n\u001b[32m    158\u001b[39m \u001b[43m    \u001b[49m\u001b[43mpassword_file_path\u001b[49m\u001b[43m,\u001b[49m\n\u001b[32m    159\u001b[39m \u001b[43m    \u001b[49m\u001b[43mprompt_live\u001b[49m\u001b[43m,\u001b[49m\n\u001b[32m    160\u001b[39m \u001b[43m    \u001b[49m\u001b[43mexplorer_uri\u001b[49m\u001b[43m,\u001b[49m\n\u001b[32m    161\u001b[39m \u001b[43m    \u001b[49m\u001b[43mexplorer_api_key\u001b[49m\u001b[43m,\u001b[49m\n\u001b[32m    162\u001b[39m \u001b[43m    \u001b[49m\u001b[43mdb_path\u001b[49m\u001b[43m,\u001b[49m\n\u001b[32m    163\u001b[39m \u001b[43m    \u001b[49m\u001b[43msave_to_db\u001b[49m\u001b[43m,\u001b[49m\n\u001b[32m    164\u001b[39m \u001b[43m\u001b[49m\u001b[43m)\u001b[49m\n\u001b[32m    166\u001b[39m \u001b[38;5;66;03m# 2. Update and set account\u001b[39;00m\n\u001b[32m    167\u001b[39m \u001b[38;5;28;01mif\u001b[39;00m active_network.prompt_live:\n",
      "\u001b[36mFile \u001b[39m\u001b[32m~/auto-trading/.venv/lib/python3.12/site-packages/moccasin/_sys_path_and_config_setup.py:99\u001b[39m, in \u001b[36m_get_set_active_network_from_cli_and_config\u001b[39m\u001b[34m(config, network, url, fork, account, password_file_path, prompt_live, explorer_uri, explorer_api_key, db_path, save_to_db)\u001b[39m\n\u001b[32m     96\u001b[39m     \u001b[38;5;28;01mif\u001b[39;00m fork.lower().strip() == \u001b[33m\"\u001b[39m\u001b[33mfalse\u001b[39m\u001b[33m\"\u001b[39m:\n\u001b[32m     97\u001b[39m         fork = \u001b[38;5;28;01mFalse\u001b[39;00m\n\u001b[32m---> \u001b[39m\u001b[32m99\u001b[39m \u001b[43mconfig\u001b[49m\u001b[43m.\u001b[49m\u001b[43mset_active_network\u001b[49m\u001b[43m(\u001b[49m\n\u001b[32m    100\u001b[39m \u001b[43m    \u001b[49m\u001b[43mnetwork\u001b[49m\u001b[43m,\u001b[49m\n\u001b[32m    101\u001b[39m \u001b[43m    \u001b[49m\u001b[43mis_fork\u001b[49m\u001b[43m=\u001b[49m\u001b[43mfork\u001b[49m\u001b[43m,\u001b[49m\n\u001b[32m    102\u001b[39m \u001b[43m    \u001b[49m\u001b[43murl\u001b[49m\u001b[43m=\u001b[49m\u001b[43murl\u001b[49m\u001b[43m,\u001b[49m\n\u001b[32m    103\u001b[39m \u001b[43m    \u001b[49m\u001b[43mdefault_account_name\u001b[49m\u001b[43m=\u001b[49m\u001b[43maccount\u001b[49m\u001b[43m,\u001b[49m\n\u001b[32m    104\u001b[39m \u001b[43m    \u001b[49m\u001b[38;5;66;43;03m# private_key=private_key, # No private key in networks\u001b[39;49;00m\n\u001b[32m    105\u001b[39m \u001b[43m    \u001b[49m\u001b[38;5;66;43;03m# password=password, # No password in networks\u001b[39;49;00m\n\u001b[32m    106\u001b[39m \u001b[43m    \u001b[49m\u001b[43mpassword_file_path\u001b[49m\u001b[43m=\u001b[49m\u001b[43mpassword_file_path\u001b[49m\u001b[43m,\u001b[49m\n\u001b[32m    107\u001b[39m \u001b[43m    \u001b[49m\u001b[43mprompt_live\u001b[49m\u001b[43m=\u001b[49m\u001b[43mprompt_live\u001b[49m\u001b[43m,\u001b[49m\n\u001b[32m    108\u001b[39m \u001b[43m    \u001b[49m\u001b[43mexplorer_uri\u001b[49m\u001b[43m=\u001b[49m\u001b[43mexplorer_uri\u001b[49m\u001b[43m,\u001b[49m\n\u001b[32m    109\u001b[39m \u001b[43m    \u001b[49m\u001b[43mexplorer_api_key\u001b[49m\u001b[43m=\u001b[49m\u001b[43mexplorer_api_key\u001b[49m\u001b[43m,\u001b[49m\n\u001b[32m    110\u001b[39m \u001b[43m    \u001b[49m\u001b[43mdb_path\u001b[49m\u001b[43m=\u001b[49m\u001b[43mdb_path\u001b[49m\u001b[43m,\u001b[49m\n\u001b[32m    111\u001b[39m \u001b[43m    \u001b[49m\u001b[43msave_to_db\u001b[49m\u001b[43m=\u001b[49m\u001b[43msave_to_db\u001b[49m\u001b[43m,\u001b[49m\n\u001b[32m    112\u001b[39m \u001b[43m\u001b[49m\u001b[43m)\u001b[49m\n\u001b[32m    114\u001b[39m active_network: Network = config.get_active_network()\n\u001b[32m    115\u001b[39m logger.debug(\u001b[33mf\u001b[39m\u001b[33m\"\u001b[39m\u001b[33mActive network set to: \u001b[39m\u001b[38;5;132;01m{\u001b[39;00mactive_network.name\u001b[38;5;132;01m}\u001b[39;00m\u001b[33m\"\u001b[39m)\n",
      "\u001b[36mFile \u001b[39m\u001b[32m~/auto-trading/.venv/lib/python3.12/site-packages/moccasin/config.py:1685\u001b[39m, in \u001b[36mConfig.set_active_network\u001b[39m\u001b[34m(self, name_url_or_id, activate_boa, **kwargs)\u001b[39m\n\u001b[32m   1673\u001b[39m \u001b[38;5;28;01mdef\u001b[39;00m\u001b[38;5;250m \u001b[39m\u001b[34mset_active_network\u001b[39m(\n\u001b[32m   1674\u001b[39m     \u001b[38;5;28mself\u001b[39m, name_url_or_id: \u001b[38;5;28mstr\u001b[39m | Network, activate_boa=\u001b[38;5;28;01mTrue\u001b[39;00m, **kwargs\n\u001b[32m   1675\u001b[39m ) -> Network:\n\u001b[32m   1676\u001b[39m \u001b[38;5;250m    \u001b[39m\u001b[33;03m\"\"\"Set the active network.\u001b[39;00m\n\u001b[32m   1677\u001b[39m \n\u001b[32m   1678\u001b[39m \u001b[33;03m    :param name_url_or_id: The name, URL, or ID of the network.\u001b[39;00m\n\u001b[32m   (...)\u001b[39m\u001b[32m   1683\u001b[39m \u001b[33;03m    :rtype: Network\u001b[39;00m\n\u001b[32m   1684\u001b[39m \u001b[33;03m    \"\"\"\u001b[39;00m\n\u001b[32m-> \u001b[39m\u001b[32m1685\u001b[39m     \u001b[38;5;28;01mreturn\u001b[39;00m \u001b[38;5;28;43mself\u001b[39;49m\u001b[43m.\u001b[49m\u001b[43mnetworks\u001b[49m\u001b[43m.\u001b[49m\u001b[43mset_active_network\u001b[49m\u001b[43m(\u001b[49m\n\u001b[32m   1686\u001b[39m \u001b[43m        \u001b[49m\u001b[43mname_url_or_id\u001b[49m\u001b[43m,\u001b[49m\u001b[43m \u001b[49m\u001b[43mactivate_boa\u001b[49m\u001b[43m=\u001b[49m\u001b[43mactivate_boa\u001b[49m\u001b[43m,\u001b[49m\u001b[43m \u001b[49m\u001b[43m*\u001b[49m\u001b[43m*\u001b[49m\u001b[43mkwargs\u001b[49m\n\u001b[32m   1687\u001b[39m \u001b[43m    \u001b[49m\u001b[43m)\u001b[49m\n",
      "\u001b[36mFile \u001b[39m\u001b[32m~/auto-trading/.venv/lib/python3.12/site-packages/moccasin/config.py:1296\u001b[39m, in \u001b[36m_Networks.set_active_network\u001b[39m\u001b[34m(self, name_of_network_or_network, activate_boa, **kwargs)\u001b[39m\n\u001b[32m   1294\u001b[39m name_of_network_or_network.set_kwargs(**kwargs)\n\u001b[32m   1295\u001b[39m \u001b[38;5;28;01mif\u001b[39;00m activate_boa:\n\u001b[32m-> \u001b[39m\u001b[32m1296\u001b[39m     \u001b[43mname_of_network_or_network\u001b[49m\u001b[43m.\u001b[49m\u001b[43mcreate_and_set_or_set_boa_env\u001b[49m\u001b[43m(\u001b[49m\u001b[43m)\u001b[49m\n\u001b[32m   1297\u001b[39m     \u001b[38;5;28mself\u001b[39m._overriden_active_network = \u001b[38;5;28;01mNone\u001b[39;00m\n\u001b[32m   1298\u001b[39m \u001b[38;5;28;01melse\u001b[39;00m:\n",
      "\u001b[36mFile \u001b[39m\u001b[32m~/auto-trading/.venv/lib/python3.12/site-packages/moccasin/config.py:333\u001b[39m, in \u001b[36mNetwork.create_and_set_or_set_boa_env\u001b[39m\u001b[34m(self, **kwargs)\u001b[39m\n\u001b[32m    325\u001b[39m \u001b[38;5;250m\u001b[39m\u001b[33;03m\"\"\"Creates and sets the boa environment.\u001b[39;00m\n\u001b[32m    326\u001b[39m \n\u001b[32m    327\u001b[39m \u001b[33;03m:param kwargs: The kwargs\u001b[39;00m\n\u001b[32m   (...)\u001b[39m\u001b[32m    330\u001b[39m \u001b[33;03m:rtype: _AnyEnv\u001b[39;00m\n\u001b[32m    331\u001b[39m \u001b[33;03m\"\"\"\u001b[39;00m\n\u001b[32m    332\u001b[39m \u001b[38;5;28mself\u001b[39m.set_kwargs(**kwargs)\n\u001b[32m--> \u001b[39m\u001b[32m333\u001b[39m \u001b[38;5;28;43mself\u001b[39;49m\u001b[43m.\u001b[49m\u001b[43m_set_boa_env\u001b[49m\u001b[43m(\u001b[49m\u001b[43m)\u001b[49m\n\u001b[32m    334\u001b[39m \u001b[38;5;28mself\u001b[39m._network_env = boa.env\n\u001b[32m    335\u001b[39m \u001b[38;5;28;01mreturn\u001b[39;00m \u001b[38;5;28mself\u001b[39m._network_env\n",
      "\u001b[36mFile \u001b[39m\u001b[32m~/auto-trading/.venv/lib/python3.12/site-packages/moccasin/config.py:158\u001b[39m, in \u001b[36mNetwork._set_boa_env\u001b[39m\u001b[34m(self)\u001b[39m\n\u001b[32m    156\u001b[39m         set_zksync_fork(url=\u001b[38;5;28mself\u001b[39m.url, block_identifier=\u001b[38;5;28mself\u001b[39m.block_identifier)\n\u001b[32m    157\u001b[39m     \u001b[38;5;28;01melse\u001b[39;00m:\n\u001b[32m--> \u001b[39m\u001b[32m158\u001b[39m         \u001b[43mboa\u001b[49m\u001b[43m.\u001b[49m\u001b[43mfork\u001b[49m\u001b[43m(\u001b[49m\u001b[38;5;28;43mself\u001b[39;49m\u001b[43m.\u001b[49m\u001b[43murl\u001b[49m\u001b[43m,\u001b[49m\u001b[43m \u001b[49m\u001b[43mblock_identifier\u001b[49m\u001b[43m=\u001b[49m\u001b[38;5;28;43mself\u001b[39;49m\u001b[43m.\u001b[49m\u001b[43mblock_identifier\u001b[49m\u001b[43m)\u001b[49m\n\u001b[32m    160\u001b[39m \u001b[38;5;66;03m# 2. Non-forked local networks\u001b[39;00m\n\u001b[32m    161\u001b[39m \u001b[38;5;28;01melif\u001b[39;00m \u001b[38;5;28mself\u001b[39m.name == PYEVM:\n",
      "\u001b[36mFile \u001b[39m\u001b[32m~/auto-trading/.venv/lib/python3.12/site-packages/boa/__init__.py:61\u001b[39m, in \u001b[36mfork\u001b[39m\u001b[34m(url, block_identifier, allow_dirty, **kwargs)\u001b[39m\n\u001b[32m     59\u001b[39m \u001b[38;5;28;01mglobal\u001b[39;00m env\n\u001b[32m     60\u001b[39m \u001b[38;5;28;01mif\u001b[39;00m env.evm.is_state_dirty \u001b[38;5;129;01mand\u001b[39;00m \u001b[38;5;129;01mnot\u001b[39;00m allow_dirty:\n\u001b[32m---> \u001b[39m\u001b[32m61\u001b[39m     \u001b[38;5;28;01mraise\u001b[39;00m \u001b[38;5;167;01mException\u001b[39;00m(\n\u001b[32m     62\u001b[39m         \u001b[33m\"\u001b[39m\u001b[33mCannot fork with dirty state. Set allow_dirty=True to override.\u001b[39m\u001b[33m\"\u001b[39m\n\u001b[32m     63\u001b[39m     )\n\u001b[32m     65\u001b[39m new_env = Env()\n\u001b[32m     66\u001b[39m new_env.fork(url=url, block_identifier=block_identifier, deprecated=\u001b[38;5;28;01mFalse\u001b[39;00m, **kwargs)\n",
      "\u001b[31mException\u001b[39m: Cannot fork with dirty state. Set allow_dirty=True to override."
     ]
    }
   ],
   "source": [
    "# 尝试完整初始化\n",
    "from moccasin import setup_notebook\n",
    "import boa\n",
    "from moccasin.config import get_active_network\n",
    "\n",
    "# 确保完全初始化\n",
    "setup_notebook()\n",
    "\n",
    "# 获取网络\n",
    "active_network = get_active_network()\n",
    "print(f\"Active network: {active_network.name}\")\n",
    "\n",
    "# 尝试直接访问配置的合约\n",
    "try:\n",
    "    usdc = active_network.manifest_named(\"usdc\")\n",
    "    print(f\"USDC contract found at: {usdc.address}\")\n",
    "except Exception as e:\n",
    "    print(f\"Error getting USDC: {str(e)}\")\n",
    "    \n",
    "try:\n",
    "    weth = active_network.manifest_named(\"weth\")\n",
    "    print(f\"WETH contract found at: {weth.address}\")\n",
    "except Exception as e:\n",
    "    print(f\"Error getting WETH: {str(e)}\")"
   ]
  }
 ],
 "metadata": {
  "kernelspec": {
   "display_name": ".venv",
   "language": "python",
   "name": "python3"
  },
  "language_info": {
   "codemirror_mode": {
    "name": "ipython",
    "version": 3
   },
   "file_extension": ".py",
   "mimetype": "text/x-python",
   "name": "python",
   "nbconvert_exporter": "python",
   "pygments_lexer": "ipython3",
   "version": "3.12.3"
  }
 },
 "nbformat": 4,
 "nbformat_minor": 2
}
